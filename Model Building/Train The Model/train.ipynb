{
  "cells": [
    {
      "cell_type": "code",
      "execution_count": null,
      "metadata": {
        "id": "ghNF4wIPmlsc"
      },
      "outputs": [],
      "source": [
        "checkpoint = ModelCheckpoint(r'E\\IBM Project\\gesture.h5',\n",
        "                            monitor='val_loss',save_best_only=True,verbose=3)\n",
        "\n",
        "earlystop = EarlyStopping(monitor = 'val_loss', patience=7, verbose= 3, restore_best_weights=True)\n",
        "\n",
        "learning_rate = ReduceLROnPlateau(monitor= 'val_loss', patience=7, verbose= 3, )\n",
        "\n",
        "callbacks=[checkpoint,earlystop,learning_rate]\n",
        "\n",
        "model.fit_generator(train_gen,\n",
        "                    epochs=25,\n",
        "                    steps_per_epoch=18000//32,\n",
        "                    validation_data=test_gen,\n",
        "                    callbacks=callbacks,\n",
        "                    verbose = 1,validation_steps=3600//32)"
      ]
    }
  ],
  "metadata": {
    "colab": {
      "provenance": []
    },
    "kernelspec": {
      "display_name": "Python 3",
      "name": "python3"
    },
    "language_info": {
      "name": "python"
    }
  },
  "nbformat": 4,
  "nbformat_minor": 0
}
