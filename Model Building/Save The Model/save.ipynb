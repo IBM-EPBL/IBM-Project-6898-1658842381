{
  "cells": [
    {
      "cell_type": "code",
      "execution_count": null,
      "metadata": {
        "id": "Tn1GpmT0lOTY"
      },
      "outputs": [],
      "source": [
        "model.save(r'E:\\IBM Project\\gesture.h5')"
      ]
    }
  ],
  "metadata": {
    "colab": {
      "provenance": []
    },
    "kernelspec": {
      "display_name": "Python 3",
      "name": "python3"
    },
    "language_info": {
      "name": "python"
    }
  },
  "nbformat": 4,
  "nbformat_minor": 0
}
