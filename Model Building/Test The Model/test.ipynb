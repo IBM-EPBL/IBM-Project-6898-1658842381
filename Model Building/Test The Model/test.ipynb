{
  "cells": [
    {
      "cell_type": "code",
      "execution_count": null,
      "metadata": {
        "id": "1RtvTaLrlVOC"
      },
      "outputs": [],
      "source": [
        "from tensorflow.keras.models import load_model\n",
        "from tensorflow.keras.preprocessing import image\n",
        "model=load_model(r'E:\\IBM Project\\gesture.h5')\n",
        "categories=['0','1','2','3','4','5']\n",
        "test_img=image.load_img(r'Downloads\\OIP4 image.jpg',target_size=(80,80),color_mode='grayscale')\n",
        "pixels=image.img_to_array(test_img)\n",
        "pixels=np.expand_dims(pixels,axis=0)\n",
        "prediction=model.predict(pixels)\n",
        "print(np.argmax(pred))"
      ]
    }
  ],
  "metadata": {
    "colab": {
      "provenance": []
    },
    "kernelspec": {
      "display_name": "Python 3",
      "name": "python3"
    },
    "language_info": {
      "name": "python"
    }
  },
  "nbformat": 4,
  "nbformat_minor": 0
}
