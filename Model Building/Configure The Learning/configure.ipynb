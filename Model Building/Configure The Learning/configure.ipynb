{
  "nbformat": 4,
  "nbformat_minor": 0,
  "metadata": {
    "colab": {
      "provenance": []
    },
    "kernelspec": {
      "name": "python3",
      "display_name": "Python 3"
    },
    "language_info": {
      "name": "python"
    },
    "accelerator": "GPU",
    "gpuClass": "standard"
  },
  "cells": [
    {
      "cell_type": "code",
      "execution_count": null,
      "metadata": {
        "id": "agAiCo3Ih9lQ"
      },
      "outputs": [],
      "source": [
        "model.compile(optimizer='adam',loss=losses.categorical_crossentropy,metrics=['accuracy'])\n"
      ]
    }
  ]
}