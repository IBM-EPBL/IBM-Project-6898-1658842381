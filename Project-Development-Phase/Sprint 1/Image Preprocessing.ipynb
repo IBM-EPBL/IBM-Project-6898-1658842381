{
 "cells": [
  {
   "cell_type": "code",
   "execution_count": 10,
   "id": "1f3da145",
   "metadata": {},
   "outputs": [],
   "source": [
    "from keras.preprocessing.image import ImageDataGenerator \n",
    "train_datagen = ImageDataGenerator(rescale = 1./255, shear_range= 0.2,zoom_range= 0.2, horizontal_flip = True) \n",
    "test_datagen =ImageDataGenerator(rescale=1)"
   ]
  },
  {
   "cell_type": "code",
   "execution_count": 11,
   "id": "31444669",
   "metadata": {},
   "outputs": [
    {
     "name": "stdout",
     "output_type": "stream",
     "text": [
      "Found 594 images belonging to 6 classes.\n",
      "Found 30 images belonging to 6 classes.\n"
     ]
    }
   ],
   "source": [
    "x_train = train_datagen.flow_from_directory(r'C:\\Users\\arun\\Desktop\\dataset\\train',target_size = (64,64), batch_size = 32, class_mode ='categorical')\n",
    "x_test = test_datagen.flow_from_directory(r'C:\\Users\\arun\\Desktop\\dataset\\test',target_size = (64,64), batch_size = 32, class_mode ='categorical')"
   ]
  }
 ],
 "metadata": {
  "kernelspec": {
   "display_name": "Python 3",
   "language": "python",
   "name": "python3"
  },
  "language_info": {
   "codemirror_mode": {
    "name": "ipython",
    "version": 3
   },
   "file_extension": ".py",
   "mimetype": "text/x-python",
   "name": "python",
   "nbconvert_exporter": "python",
   "pygments_lexer": "ipython3",
   "version": "3.8.8"
  }
 },
 "nbformat": 4,
 "nbformat_minor": 5
}
