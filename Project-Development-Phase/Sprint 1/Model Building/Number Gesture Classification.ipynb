{
 "cells": [
  {
   "cell_type": "markdown",
   "metadata": {},
   "source": [
    "# Data Collection"
   ]
  },
  {
   "cell_type": "markdown",
   "metadata": {},
   "source": [
    "## Import the ImageDataGenerator library"
   ]
  },
  {
   "cell_type": "code",
   "execution_count": 1,
   "metadata": {},
   "outputs": [
    {
     "name": "stderr",
     "output_type": "stream",
     "text": [
      "/Users/aravind/opt/anaconda3/envs/mlp/lib/python3.8/site-packages/scipy/__init__.py:146: UserWarning: A NumPy version >=1.16.5 and <1.23.0 is required for this version of SciPy (detected version 1.23.3\n",
      "  warnings.warn(f\"A NumPy version >={np_minversion} and <{np_maxversion}\"\n"
     ]
    }
   ],
   "source": [
    "from keras.preprocessing.image import ImageDataGenerator"
   ]
  },
  {
   "cell_type": "markdown",
   "metadata": {},
   "source": [
    "## Configure ImageDataGenerator class"
   ]
  },
  {
   "cell_type": "code",
   "execution_count": 2,
   "metadata": {},
   "outputs": [],
   "source": [
    "train_datagen = ImageDataGenerator(rescale=1./255,shear_range=0.2,zoom_range=0.2,horizontal_flip=True)\n",
    "test_datagen = ImageDataGenerator(rescale=1./255)"
   ]
  },
  {
   "cell_type": "markdown",
   "metadata": {},
   "source": [
    "## Apply ImageDataGenerator functionality to Trainset and Testset"
   ]
  },
  {
   "cell_type": "code",
   "execution_count": 3,
   "metadata": {},
   "outputs": [
    {
     "name": "stdout",
     "output_type": "stream",
     "text": [
      "Found 594 images belonging to 6 classes.\n",
      "Found 30 images belonging to 6 classes.\n"
     ]
    }
   ],
   "source": [
    "x_train = train_datagen.flow_from_directory('../../Dataset/train/', target_size=(64, 64), batch_size=5, color_mode='grayscale', class_mode='categorical')\n",
    "x_test = test_datagen.flow_from_directory('../../Dataset/test/', target_size=(64, 64), batch_size=5, color_mode='grayscale', class_mode='categorical')"
   ]
  },
  {
   "cell_type": "markdown",
   "metadata": {},
   "source": [
    "# Model building"
   ]
  },
  {
   "cell_type": "markdown",
   "metadata": {},
   "source": [
    "## Importing the Model Building Libraries"
   ]
  },
  {
   "cell_type": "code",
   "execution_count": 4,
   "metadata": {},
   "outputs": [],
   "source": [
    "import numpy as np\n",
    "import tensorflow\n",
    "from tensorflow.keras.models import Sequential\n",
    "from tensorflow.keras import layers\n",
    "from tensorflow.keras.layers import Dense, Flatten\n",
    "from tensorflow.keras.layers import Conv2D, MaxPooling2D\n",
    "from keras.preprocessing.image import ImageDataGenerator\n"
   ]
  },
  {
   "cell_type": "markdown",
   "metadata": {},
   "source": [
    "## Initializing the Model"
   ]
  },
  {
   "cell_type": "code",
   "execution_count": 5,
   "metadata": {},
   "outputs": [],
   "source": [
    "classifier = Sequential()"
   ]
  },
  {
   "cell_type": "markdown",
   "metadata": {},
   "source": [
    "### Adding CNN Layers"
   ]
  },
  {
   "cell_type": "code",
   "execution_count": 6,
   "metadata": {},
   "outputs": [],
   "source": [
    "classifier.add(Conv2D(32, (3, 3), input_shape=(64, 64, 1) ,activation='relu'))\n",
    "classifier.add(MaxPooling2D(pool_size=(2, 2)))\n",
    "classifier.add(Conv2D(32, (3, 3), activation='relu'))\n",
    "classifier.add(MaxPooling2D(pool_size=(2, 2)))\n",
    "classifier.add(Flatten())"
   ]
  },
  {
   "cell_type": "markdown",
   "metadata": {},
   "source": [
    "### Adding Dense Layers"
   ]
  },
  {
   "cell_type": "code",
   "execution_count": 7,
   "metadata": {},
   "outputs": [],
   "source": [
    "classifier.add(Dense(units=128, activation='relu'))\n",
    "classifier.add(Dense(units=6, activation='softmax'))"
   ]
  },
  {
   "cell_type": "code",
   "execution_count": 8,
   "metadata": {},
   "outputs": [
    {
     "name": "stdout",
     "output_type": "stream",
     "text": [
      "Model: \"sequential\"\n",
      "_________________________________________________________________\n",
      " Layer (type)                Output Shape              Param #   \n",
      "=================================================================\n",
      " conv2d (Conv2D)             (None, 62, 62, 32)        320       \n",
      "                                                                 \n",
      " max_pooling2d (MaxPooling2D  (None, 31, 31, 32)       0         \n",
      " )                                                               \n",
      "                                                                 \n",
      " conv2d_1 (Conv2D)           (None, 29, 29, 32)        9248      \n",
      "                                                                 \n",
      " max_pooling2d_1 (MaxPooling  (None, 14, 14, 32)       0         \n",
      " 2D)                                                             \n",
      "                                                                 \n",
      " flatten (Flatten)           (None, 6272)              0         \n",
      "                                                                 \n",
      " dense (Dense)               (None, 128)               802944    \n",
      "                                                                 \n",
      " dense_1 (Dense)             (None, 6)                 774       \n",
      "                                                                 \n",
      "=================================================================\n",
      "Total params: 813,286\n",
      "Trainable params: 813,286\n",
      "Non-trainable params: 0\n",
      "_________________________________________________________________\n"
     ]
    }
   ],
   "source": [
    "classifier.summary()"
   ]
  },
  {
   "cell_type": "markdown",
   "metadata": {},
   "source": [
    "## Configure The Learning Process"
   ]
  },
  {
   "cell_type": "code",
   "execution_count": 9,
   "metadata": {},
   "outputs": [],
   "source": [
    "classifier.compile(optimizer='adam', loss='categorical_crossentropy', metrics=['accuracy'])"
   ]
  },
  {
   "cell_type": "code",
   "execution_count": 11,
   "metadata": {},
   "outputs": [
    {
     "name": "stdout",
     "output_type": "stream",
     "text": [
      "Epoch 1/20\n"
     ]
    },
    {
     "name": "stderr",
     "output_type": "stream",
     "text": [
      "<ipython-input-11-b43cdd6e95be>:1: UserWarning: `Model.fit_generator` is deprecated and will be removed in a future version. Please use `Model.fit`, which supports generators.\n",
      "  classifier.fit_generator(\n"
     ]
    },
    {
     "name": "stdout",
     "output_type": "stream",
     "text": [
      "119/119 [==============================] - 2s 15ms/step - loss: 0.1782 - accuracy: 0.9444 - val_loss: 0.3841 - val_accuracy: 0.8000\n",
      "Epoch 2/20\n",
      "119/119 [==============================] - 2s 15ms/step - loss: 0.1146 - accuracy: 0.9630 - val_loss: 0.2360 - val_accuracy: 0.9333\n",
      "Epoch 3/20\n",
      "119/119 [==============================] - 2s 14ms/step - loss: 0.0902 - accuracy: 0.9646 - val_loss: 0.2375 - val_accuracy: 0.9333\n",
      "Epoch 4/20\n",
      "119/119 [==============================] - 2s 17ms/step - loss: 0.0734 - accuracy: 0.9731 - val_loss: 0.1519 - val_accuracy: 0.9333\n",
      "Epoch 5/20\n",
      "119/119 [==============================] - 2s 16ms/step - loss: 0.0676 - accuracy: 0.9798 - val_loss: 0.2400 - val_accuracy: 0.9667\n",
      "Epoch 6/20\n",
      "119/119 [==============================] - 2s 15ms/step - loss: 0.0690 - accuracy: 0.9781 - val_loss: 0.3626 - val_accuracy: 0.9333\n",
      "Epoch 7/20\n",
      "119/119 [==============================] - 2s 15ms/step - loss: 0.0355 - accuracy: 0.9848 - val_loss: 0.2667 - val_accuracy: 0.9667\n",
      "Epoch 8/20\n",
      "119/119 [==============================] - 2s 15ms/step - loss: 0.0817 - accuracy: 0.9747 - val_loss: 0.5307 - val_accuracy: 0.9667\n",
      "Epoch 9/20\n",
      "119/119 [==============================] - 2s 15ms/step - loss: 0.0536 - accuracy: 0.9832 - val_loss: 0.3374 - val_accuracy: 0.9667\n",
      "Epoch 10/20\n",
      "119/119 [==============================] - 2s 14ms/step - loss: 0.0825 - accuracy: 0.9697 - val_loss: 0.3196 - val_accuracy: 0.9667\n",
      "Epoch 11/20\n",
      "119/119 [==============================] - 2s 15ms/step - loss: 0.0404 - accuracy: 0.9848 - val_loss: 0.4190 - val_accuracy: 0.9667\n",
      "Epoch 12/20\n",
      "119/119 [==============================] - 2s 15ms/step - loss: 0.0409 - accuracy: 0.9865 - val_loss: 0.4215 - val_accuracy: 0.9667\n",
      "Epoch 13/20\n",
      "119/119 [==============================] - 2s 15ms/step - loss: 0.0597 - accuracy: 0.9798 - val_loss: 0.3837 - val_accuracy: 0.9667\n",
      "Epoch 14/20\n",
      "119/119 [==============================] - 2s 16ms/step - loss: 0.0434 - accuracy: 0.9865 - val_loss: 0.3663 - val_accuracy: 0.9667\n",
      "Epoch 15/20\n",
      "119/119 [==============================] - 2s 17ms/step - loss: 0.0073 - accuracy: 1.0000 - val_loss: 0.3177 - val_accuracy: 0.9667\n",
      "Epoch 16/20\n",
      "119/119 [==============================] - 2s 15ms/step - loss: 0.0471 - accuracy: 0.9798 - val_loss: 0.3634 - val_accuracy: 0.9667\n",
      "Epoch 17/20\n",
      "119/119 [==============================] - 2s 15ms/step - loss: 0.0429 - accuracy: 0.9899 - val_loss: 0.2548 - val_accuracy: 0.9667\n",
      "Epoch 18/20\n",
      "119/119 [==============================] - 2s 15ms/step - loss: 0.0189 - accuracy: 0.9983 - val_loss: 0.1620 - val_accuracy: 0.9667\n",
      "Epoch 19/20\n",
      "119/119 [==============================] - 2s 16ms/step - loss: 0.0137 - accuracy: 0.9949 - val_loss: 0.1487 - val_accuracy: 0.9333\n",
      "Epoch 20/20\n",
      "119/119 [==============================] - 2s 15ms/step - loss: 0.0060 - accuracy: 0.9983 - val_loss: 0.2237 - val_accuracy: 0.9667\n"
     ]
    },
    {
     "data": {
      "text/plain": [
       "<keras.callbacks.History at 0x107422280>"
      ]
     },
     "execution_count": 11,
     "metadata": {},
     "output_type": "execute_result"
    }
   ],
   "source": [
    "classifier.fit_generator(\n",
    "    generator=x_train, steps_per_epoch=len(x_train),\n",
    "    epochs=20, validation_data=x_test, validation_steps=len(x_test)\n",
    ")"
   ]
  },
  {
   "cell_type": "markdown",
   "metadata": {},
   "source": [
    "## Save the Model"
   ]
  },
  {
   "cell_type": "code",
   "execution_count": 12,
   "metadata": {},
   "outputs": [],
   "source": [
    "classifier.save('gesture.h5')"
   ]
  },
  {
   "cell_type": "code",
   "execution_count": 13,
   "metadata": {},
   "outputs": [],
   "source": [
    "model_json = classifier.to_json()\n",
    "with open(\"model-bw.json\", \"w\") as f:\n",
    "    f.write(model_json)"
   ]
  },
  {
   "cell_type": "markdown",
   "metadata": {},
   "source": [
    "## Test the model"
   ]
  },
  {
   "cell_type": "code",
   "execution_count": 14,
   "metadata": {},
   "outputs": [],
   "source": [
    "from tensorflow.keras.models import load_model\n",
    "from keras.preprocessing import image"
   ]
  },
  {
   "cell_type": "code",
   "execution_count": 15,
   "metadata": {},
   "outputs": [],
   "source": [
    "model = load_model(\"gesture.h5\")"
   ]
  },
  {
   "cell_type": "code",
   "execution_count": 17,
   "metadata": {},
   "outputs": [
    {
     "name": "stderr",
     "output_type": "stream",
     "text": [
      "/Users/aravind/opt/anaconda3/envs/mlp/lib/python3.8/site-packages/keras/utils/image_utils.py:409: UserWarning: grayscale is deprecated. Please use color_mode = \"grayscale\"\n",
      "  warnings.warn(\n"
     ]
    },
    {
     "name": "stdout",
     "output_type": "stream",
     "text": [
      "1/1 [==============================] - 0s 199ms/step\n"
     ]
    },
    {
     "data": {
      "text/plain": [
       "array([[1., 0., 0., 0., 0., 0.]], dtype=float32)"
      ]
     },
     "execution_count": 17,
     "metadata": {},
     "output_type": "execute_result"
    }
   ],
   "source": [
    "from tensorflow.keras.utils import load_img, img_to_array\n",
    "\n",
    "img = load_img(\"../../Dataset/test/0/0.jpg\", grayscale=True, target_size=(64, 64))\n",
    "x = img_to_array(img)\n",
    "x = np.expand_dims(x,axis=0)\n",
    "pred = model.predict(x)\n",
    "\n",
    "pred"
   ]
  },
  {
   "cell_type": "code",
   "execution_count": 18,
   "metadata": {},
   "outputs": [
    {
     "data": {
      "text/plain": [
       "array([1., 0., 0., 0., 0., 0.], dtype=float32)"
      ]
     },
     "execution_count": 18,
     "metadata": {},
     "output_type": "execute_result"
    }
   ],
   "source": [
    "pred[0]"
   ]
  },
  {
   "cell_type": "code",
   "execution_count": null,
   "metadata": {},
   "outputs": [],
   "source": []
  }
 ],
 "metadata": {
  "kernelspec": {
   "display_name": "Python 3.8.13 ('mlp')",
   "language": "python",
   "name": "python3"
  },
  "language_info": {
   "codemirror_mode": {
    "name": "ipython",
    "version": 3
   },
   "file_extension": ".py",
   "mimetype": "text/x-python",
   "name": "python",
   "nbconvert_exporter": "python",
   "pygments_lexer": "ipython3",
   "version": "3.8.13"
  },
  "orig_nbformat": 4,
  "vscode": {
   "interpreter": {
    "hash": "49d4d685d3586b70382b4fb18bb8b5b132a4fb532b3f87f675a426fa6fee4080"
   }
  }
 },
 "nbformat": 4,
 "nbformat_minor": 2
}
