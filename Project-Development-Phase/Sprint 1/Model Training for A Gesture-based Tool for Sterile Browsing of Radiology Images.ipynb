{
 "cells": [
  {
   "cell_type": "code",
   "execution_count": 1,
   "id": "947f6a26",
   "metadata": {},
   "outputs": [],
   "source": [
    "import numpy as np\n",
    "import tensorflow as tf\n",
    "from tensorflow.keras.models import Sequential \n",
    "from tensorflow.keras.layers import Dense,Flatten, Dropout\n",
    "from tensorflow.keras.layers import Convolution2D,MaxPooling2D  \n",
    "from tensorflow.keras.preprocessing.image import ImageDataGenerator"
   ]
  },
  {
   "cell_type": "code",
   "execution_count": 2,
   "id": "ce2c7aaf",
   "metadata": {},
   "outputs": [],
   "source": [
    "train_datagen = ImageDataGenerator(rescale=1./255,\n",
    "                                   shear_range=0.2,\n",
    "                                   zoom_range=0.2,\n",
    "                                   horizontal_flip=True)\n",
    "test_datagen=ImageDataGenerator(rescale=1./255)"
   ]
  },
  {
   "cell_type": "code",
   "execution_count": 4,
   "id": "cac2187f",
   "metadata": {},
   "outputs": [
    {
     "name": "stdout",
     "output_type": "stream",
     "text": [
      "Found 594 images belonging to 6 classes.\n",
      "Found 30 images belonging to 6 classes.\n"
     ]
    }
   ],
   "source": [
    "x_train = train_datagen.flow_from_directory(r'C:\\Users\\arun\\Desktop\\dataset\\train',\n",
    "                                            target_size=(64, 64),\n",
    "                                            batch_size=3,\n",
    "                                            color_mode='grayscale',\n",
    "                                            class_mode='categorical')\n",
    "x_test = test_datagen.flow_from_directory(r'C:\\Users\\arun\\Desktop\\dataset\\test',\n",
    "                                          target_size=(64, 64),\n",
    "                                          batch_size=3,\n",
    "                                          color_mode='grayscale',\n",
    "                                          class_mode='categorical') "
   ]
  },
  {
   "cell_type": "code",
   "execution_count": 5,
   "id": "7ad00300",
   "metadata": {},
   "outputs": [],
   "source": [
    "model = Sequential()"
   ]
  },
  {
   "cell_type": "code",
   "execution_count": 6,
   "id": "a4706fa4",
   "metadata": {},
   "outputs": [],
   "source": [
    "model.add(Convolution2D(32, (3, 3), input_shape=(64, 64, 1), activation='relu'))\n",
    "model.add(MaxPooling2D(pool_size=(2, 2)))"
   ]
  },
  {
   "cell_type": "code",
   "execution_count": 7,
   "id": "9d54b805",
   "metadata": {},
   "outputs": [],
   "source": [
    "model.add(Convolution2D(32, (3, 3), activation='relu'))\n",
    "model.add(MaxPooling2D(pool_size=(2,2)))"
   ]
  },
  {
   "cell_type": "code",
   "execution_count": 8,
   "id": "0dc3e64b",
   "metadata": {},
   "outputs": [],
   "source": [
    "model.add(Flatten())"
   ]
  },
  {
   "cell_type": "code",
   "execution_count": 9,
   "id": "526f73d1",
   "metadata": {},
   "outputs": [],
   "source": [
    "model.add(Dense(units=512 , activation='relu'))"
   ]
  },
  {
   "cell_type": "code",
   "execution_count": 10,
   "id": "0cefb26b",
   "metadata": {},
   "outputs": [],
   "source": [
    "model.add(Dense(units=6, activation='softmax')) "
   ]
  },
  {
   "cell_type": "code",
   "execution_count": 11,
   "id": "e1e7d1a4",
   "metadata": {},
   "outputs": [
    {
     "name": "stdout",
     "output_type": "stream",
     "text": [
      "Model: \"sequential\"\n",
      "_________________________________________________________________\n",
      " Layer (type)                Output Shape              Param #   \n",
      "=================================================================\n",
      " conv2d (Conv2D)             (None, 62, 62, 32)        320       \n",
      "                                                                 \n",
      " max_pooling2d (MaxPooling2D  (None, 31, 31, 32)       0         \n",
      " )                                                               \n",
      "                                                                 \n",
      " conv2d_1 (Conv2D)           (None, 29, 29, 32)        9248      \n",
      "                                                                 \n",
      " max_pooling2d_1 (MaxPooling  (None, 14, 14, 32)       0         \n",
      " 2D)                                                             \n",
      "                                                                 \n",
      " flatten (Flatten)           (None, 6272)              0         \n",
      "                                                                 \n",
      " dense (Dense)               (None, 512)               3211776   \n",
      "                                                                 \n",
      " dense_1 (Dense)             (None, 6)                 3078      \n",
      "                                                                 \n",
      "=================================================================\n",
      "Total params: 3,224,422\n",
      "Trainable params: 3,224,422\n",
      "Non-trainable params: 0\n",
      "_________________________________________________________________\n"
     ]
    }
   ],
   "source": [
    "model.summary()"
   ]
  },
  {
   "cell_type": "code",
   "execution_count": 12,
   "id": "41fcd0ea",
   "metadata": {},
   "outputs": [],
   "source": [
    "model.compile(optimizer='adam', loss='categorical_crossentropy', metrics=['accuracy']) "
   ]
  },
  {
   "cell_type": "code",
   "execution_count": 13,
   "id": "4057496a",
   "metadata": {},
   "outputs": [
    {
     "name": "stderr",
     "output_type": "stream",
     "text": [
      "<ipython-input-13-b82b2aea274a>:2: UserWarning: `Model.fit_generator` is deprecated and will be removed in a future version. Please use `Model.fit`, which supports generators.\n",
      "  model.fit_generator(x_train,\n"
     ]
    },
    {
     "name": "stdout",
     "output_type": "stream",
     "text": [
      "Epoch 1/25\n",
      "198/198 [==============================] - 15s 71ms/step - loss: 1.3935 - accuracy: 0.4428 - val_loss: 0.7625 - val_accuracy: 0.7333\n",
      "Epoch 2/25\n",
      "198/198 [==============================] - 14s 70ms/step - loss: 0.6228 - accuracy: 0.7374 - val_loss: 0.4547 - val_accuracy: 0.9000\n",
      "Epoch 3/25\n",
      "198/198 [==============================] - 14s 69ms/step - loss: 0.4162 - accuracy: 0.8350 - val_loss: 0.2619 - val_accuracy: 0.9000\n",
      "Epoch 4/25\n",
      "198/198 [==============================] - 13s 68ms/step - loss: 0.3183 - accuracy: 0.8771 - val_loss: 0.2557 - val_accuracy: 0.9000\n",
      "Epoch 5/25\n",
      "198/198 [==============================] - 13s 67ms/step - loss: 0.2563 - accuracy: 0.9024 - val_loss: 0.2768 - val_accuracy: 0.9000\n",
      "Epoch 6/25\n",
      "198/198 [==============================] - 14s 69ms/step - loss: 0.1513 - accuracy: 0.9495 - val_loss: 0.3705 - val_accuracy: 0.9333\n",
      "Epoch 7/25\n",
      "198/198 [==============================] - 14s 71ms/step - loss: 0.1610 - accuracy: 0.9360 - val_loss: 0.3457 - val_accuracy: 0.8667\n",
      "Epoch 8/25\n",
      "198/198 [==============================] - 14s 70ms/step - loss: 0.1166 - accuracy: 0.9545 - val_loss: 0.3367 - val_accuracy: 0.9000\n",
      "Epoch 9/25\n",
      "198/198 [==============================] - 14s 69ms/step - loss: 0.1109 - accuracy: 0.9646 - val_loss: 0.2659 - val_accuracy: 0.9000\n",
      "Epoch 10/25\n",
      "198/198 [==============================] - 14s 68ms/step - loss: 0.0823 - accuracy: 0.9663 - val_loss: 0.5025 - val_accuracy: 0.9333\n",
      "Epoch 11/25\n",
      "198/198 [==============================] - 13s 67ms/step - loss: 0.0799 - accuracy: 0.9747 - val_loss: 0.2626 - val_accuracy: 0.9333\n",
      "Epoch 12/25\n",
      "198/198 [==============================] - 9s 45ms/step - loss: 0.0919 - accuracy: 0.9714 - val_loss: 0.4762 - val_accuracy: 0.8333\n",
      "Epoch 13/25\n",
      "198/198 [==============================] - 14s 70ms/step - loss: 0.0357 - accuracy: 0.9899 - val_loss: 0.2444 - val_accuracy: 0.9000\n",
      "Epoch 14/25\n",
      "198/198 [==============================] - 13s 65ms/step - loss: 0.0341 - accuracy: 0.9899 - val_loss: 0.2582 - val_accuracy: 0.9333\n",
      "Epoch 15/25\n",
      "198/198 [==============================] - 9s 44ms/step - loss: 0.0964 - accuracy: 0.9646 - val_loss: 0.1478 - val_accuracy: 0.9333\n",
      "Epoch 16/25\n",
      "198/198 [==============================] - 8s 43ms/step - loss: 0.0482 - accuracy: 0.9832 - val_loss: 0.1486 - val_accuracy: 0.9667\n",
      "Epoch 17/25\n",
      "198/198 [==============================] - 7s 37ms/step - loss: 0.0564 - accuracy: 0.9815 - val_loss: 0.2217 - val_accuracy: 0.9333\n",
      "Epoch 18/25\n",
      "198/198 [==============================] - 7s 37ms/step - loss: 0.0493 - accuracy: 0.9832 - val_loss: 0.4553 - val_accuracy: 0.9333\n",
      "Epoch 19/25\n",
      "198/198 [==============================] - 8s 42ms/step - loss: 0.0419 - accuracy: 0.9832 - val_loss: 0.3088 - val_accuracy: 0.9000\n",
      "Epoch 20/25\n",
      "198/198 [==============================] - 14s 71ms/step - loss: 0.0206 - accuracy: 0.9933 - val_loss: 0.2250 - val_accuracy: 0.9333\n",
      "Epoch 21/25\n",
      "198/198 [==============================] - 13s 68ms/step - loss: 0.0200 - accuracy: 0.9983 - val_loss: 0.2326 - val_accuracy: 0.9667\n",
      "Epoch 22/25\n",
      "198/198 [==============================] - 14s 69ms/step - loss: 0.0590 - accuracy: 0.9815 - val_loss: 0.2914 - val_accuracy: 0.9667\n",
      "Epoch 23/25\n",
      "198/198 [==============================] - 14s 71ms/step - loss: 0.0365 - accuracy: 0.9916 - val_loss: 0.2424 - val_accuracy: 0.9667\n",
      "Epoch 24/25\n",
      "198/198 [==============================] - 9s 46ms/step - loss: 0.0299 - accuracy: 0.9882 - val_loss: 0.2493 - val_accuracy: 0.9667\n",
      "Epoch 25/25\n",
      "198/198 [==============================] - 8s 38ms/step - loss: 0.1112 - accuracy: 0.9697 - val_loss: 0.2215 - val_accuracy: 0.9667\n"
     ]
    },
    {
     "data": {
      "text/plain": [
       "<keras.callbacks.History at 0x2a66cdbfeb0>"
      ]
     },
     "execution_count": 13,
     "metadata": {},
     "output_type": "execute_result"
    }
   ],
   "source": [
    "model.fit_generator(x_train,\n",
    "                    steps_per_epoch = 594/3 , \n",
    "                    epochs = 25, \n",
    "                    validation_data = x_test,\n",
    "                    validation_steps = 30/3 )"
   ]
  },
  {
   "cell_type": "code",
   "execution_count": 71,
   "id": "fcfdf534",
   "metadata": {},
   "outputs": [],
   "source": [
    "model.save('Gesture.h5')"
   ]
  },
  {
   "cell_type": "code",
   "execution_count": 70,
   "id": "6f973a4a",
   "metadata": {},
   "outputs": [],
   "source": [
    "model_json = model.to_json()\n",
    "with open(\"model-bw.json\", \"w\") as json_file:\n",
    "    json_file.write(model_json)"
   ]
  }
 ],
 "metadata": {
  "kernelspec": {
   "display_name": "Python 3",
   "language": "python",
   "name": "python3"
  },
  "language_info": {
   "codemirror_mode": {
    "name": "ipython",
    "version": 3
   },
   "file_extension": ".py",
   "mimetype": "text/x-python",
   "name": "python",
   "nbconvert_exporter": "python",
   "pygments_lexer": "ipython3",
   "version": "3.8.8"
  }
 },
 "nbformat": 4,
 "nbformat_minor": 5
}
