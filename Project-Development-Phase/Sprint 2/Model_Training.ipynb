{
 "cells": [
  {
   "cell_type": "markdown",
   "id": "056eb2c9",
   "metadata": {},
   "source": [
    "# Team ID : PNT2022TMID34850\n"
   ]
  },
  {
   "cell_type": "markdown",
   "id": "ed1e8e23",
   "metadata": {},
   "source": [
    "# Project Name : A Gesture-based Tool for Sterile Browsing of Radiology Images"
   ]
  },
  {
   "cell_type": "markdown",
   "id": "e0d764da",
   "metadata": {},
   "source": [
    "# Training"
   ]
  },
  {
   "cell_type": "code",
   "execution_count": 1,
   "id": "04ce1cce",
   "metadata": {},
   "outputs": [],
   "source": [
    "import numpy as np\n",
    "import tensorflow\n",
    "import keras"
   ]
  },
  {
   "cell_type": "code",
   "execution_count": 2,
   "id": "dd9a3a10",
   "metadata": {},
   "outputs": [],
   "source": [
    "from tensorflow.keras.models import Sequential\n",
    "from tensorflow.keras import layers\n",
    "from tensorflow.keras.layers import Dense, Flatten\n",
    "from tensorflow.keras.layers import Conv2D, MaxPooling2D\n",
    "from keras.preprocessing.image import ImageDataGenerator"
   ]
  },
  {
   "cell_type": "code",
   "execution_count": 3,
   "id": "0c45e164",
   "metadata": {},
   "outputs": [],
   "source": [
    "#setting parameter for Image Data agumentation to the traing data\n",
    "train_datagen = ImageDataGenerator(rescale=1./255,\n",
    " shear_range=0.2,\n",
    " zoom_range=0.2,\n",
    " horizontal_flip=True)"
   ]
  },
  {
   "cell_type": "code",
   "execution_count": 7,
   "id": "c04fb18f",
   "metadata": {},
   "outputs": [],
   "source": [
    "#Image Data agumentation to the testing data\n",
    "train_datagen = ImageDataGenerator(rescale=1./255,shear_range=0.2,zoom_range=0.2,horizontal_flip=True)\n",
    "test_datagen = ImageDataGenerator(rescale=1./255)"
   ]
  },
  {
   "cell_type": "code",
   "execution_count": 9,
   "id": "5130ddd3",
   "metadata": {},
   "outputs": [
    {
     "name": "stdout",
     "output_type": "stream",
     "text": [
      "Found 594 images belonging to 6 classes.\n"
     ]
    }
   ],
   "source": [
    "#performing data agumentation to train data\n",
    "x_train =train_datagen.flow_from_directory(r'D:\\A Gesture-based Tool for Sterile Browsing of Radiology Images\\Dataset\\train',\n",
    " target_size=(64, 64),\n",
    " batch_size=3,\n",
    " color_mode='grayscale',\n",
    " class_mode='categorical')"
   ]
  },
  {
   "cell_type": "code",
   "execution_count": 12,
   "id": "a0fc31c4",
   "metadata": {},
   "outputs": [
    {
     "name": "stdout",
     "output_type": "stream",
     "text": [
      "Found 30 images belonging to 6 classes.\n"
     ]
    }
   ],
   "source": [
    "#performing data agumentation to test data\n",
    "x_test =test_datagen.flow_from_directory(r'D:\\A Gesture-based Tool for Sterile Browsing of Radiology Images\\Dataset\\test',\n",
    " target_size=(64, 64),\n",
    " batch_size=3,\n",
    " color_mode='grayscale',\n",
    " class_mode='categorical') "
   ]
  },
  {
   "cell_type": "code",
   "execution_count": 13,
   "id": "36be2d42",
   "metadata": {},
   "outputs": [],
   "source": [
    "classifier = Sequential()\n"
   ]
  },
  {
   "cell_type": "code",
   "execution_count": 14,
   "id": "495e645a",
   "metadata": {},
   "outputs": [],
   "source": [
    "import numpy as np\n",
    "from keras.preprocessing import image"
   ]
  },
  {
   "cell_type": "code",
   "execution_count": 15,
   "id": "ac366566",
   "metadata": {},
   "outputs": [],
   "source": [
    "classifier.add(Conv2D(32,(3,3), input_shape=(64,64,1),activation='relu'))\n",
    "classifier.add(MaxPooling2D(pool_size=(2,2)))"
   ]
  },
  {
   "cell_type": "code",
   "execution_count": 16,
   "id": "8edbe0ad",
   "metadata": {},
   "outputs": [],
   "source": [
    "classifier.add(Conv2D(32,(3,3), activation='relu'))\n",
    "classifier.add(MaxPooling2D(pool_size=(2,2)))\n",
    "classifier.add(Flatten())\n"
   ]
  },
  {
   "cell_type": "code",
   "execution_count": 17,
   "id": "2e431a89",
   "metadata": {},
   "outputs": [
    {
     "name": "stdout",
     "output_type": "stream",
     "text": [
      "Model: \"sequential\"\n",
      "_________________________________________________________________\n",
      " Layer (type)                Output Shape              Param #   \n",
      "=================================================================\n",
      " conv2d (Conv2D)             (None, 62, 62, 32)        320       \n",
      "                                                                 \n",
      " max_pooling2d (MaxPooling2D  (None, 31, 31, 32)       0         \n",
      " )                                                               \n",
      "                                                                 \n",
      " conv2d_1 (Conv2D)           (None, 29, 29, 32)        9248      \n",
      "                                                                 \n",
      " max_pooling2d_1 (MaxPooling  (None, 14, 14, 32)       0         \n",
      " 2D)                                                             \n",
      "                                                                 \n",
      " flatten (Flatten)           (None, 6272)              0         \n",
      "                                                                 \n",
      " dense (Dense)               (None, 128)               802944    \n",
      "                                                                 \n",
      " dense_1 (Dense)             (None, 6)                 774       \n",
      "                                                                 \n",
      "=================================================================\n",
      "Total params: 813,286\n",
      "Trainable params: 813,286\n",
      "Non-trainable params: 0\n",
      "_________________________________________________________________\n"
     ]
    }
   ],
   "source": [
    "classifier.add(Dense(units=128, activation='relu'))\n",
    "classifier.add(Dense(units=6, activation='softmax'))\n",
    "classifier.summary()"
   ]
  },
  {
   "cell_type": "code",
   "execution_count": 18,
   "id": "d4d48423",
   "metadata": {},
   "outputs": [],
   "source": [
    "classifier.compile(optimizer='adam', loss='categorical_crossentropy',\n",
    "metrics=['accuracy'])"
   ]
  },
  {
   "cell_type": "code",
   "execution_count": 19,
   "id": "f70282f5",
   "metadata": {},
   "outputs": [
    {
     "name": "stderr",
     "output_type": "stream",
     "text": [
      "C:\\Users\\ELCOT\\AppData\\Local\\Temp/ipykernel_8824/802418967.py:1: UserWarning: `Model.fit_generator` is deprecated and will be removed in a future version. Please use `Model.fit`, which supports generators.\n",
      "  classifier.fit_generator(\n"
     ]
    },
    {
     "name": "stdout",
     "output_type": "stream",
     "text": [
      "Epoch 1/20\n",
      "198/198 [==============================] - 17s 69ms/step - loss: 1.3314 - accuracy: 0.4899 - val_loss: 0.7580 - val_accuracy: 0.7333\n",
      "Epoch 2/20\n",
      "198/198 [==============================] - 18s 91ms/step - loss: 0.6399 - accuracy: 0.7643 - val_loss: 0.6347 - val_accuracy: 0.7000\n",
      "Epoch 3/20\n",
      "198/198 [==============================] - 16s 80ms/step - loss: 0.4519 - accuracy: 0.8300 - val_loss: 0.4578 - val_accuracy: 0.8667\n",
      "Epoch 4/20\n",
      "198/198 [==============================] - 14s 69ms/step - loss: 0.3100 - accuracy: 0.8687 - val_loss: 0.2924 - val_accuracy: 0.9667\n",
      "Epoch 5/20\n",
      "198/198 [==============================] - 12s 60ms/step - loss: 0.2371 - accuracy: 0.9192 - val_loss: 0.2549 - val_accuracy: 0.9333\n",
      "Epoch 6/20\n",
      "198/198 [==============================] - 12s 59ms/step - loss: 0.1994 - accuracy: 0.9226 - val_loss: 0.2642 - val_accuracy: 0.9000\n",
      "Epoch 7/20\n",
      "198/198 [==============================] - 11s 58ms/step - loss: 0.1576 - accuracy: 0.9478 - val_loss: 0.2085 - val_accuracy: 0.9667\n",
      "Epoch 8/20\n",
      "198/198 [==============================] - 13s 67ms/step - loss: 0.0997 - accuracy: 0.9630 - val_loss: 0.2539 - val_accuracy: 0.9333\n",
      "Epoch 9/20\n",
      "198/198 [==============================] - 12s 59ms/step - loss: 0.0758 - accuracy: 0.9697 - val_loss: 0.3405 - val_accuracy: 0.9667\n",
      "Epoch 10/20\n",
      "198/198 [==============================] - 15s 76ms/step - loss: 0.0642 - accuracy: 0.9832 - val_loss: 0.3735 - val_accuracy: 0.9333\n",
      "Epoch 11/20\n",
      "198/198 [==============================] - 16s 78ms/step - loss: 0.0930 - accuracy: 0.9663 - val_loss: 0.2157 - val_accuracy: 0.9667\n",
      "Epoch 12/20\n",
      "198/198 [==============================] - 14s 71ms/step - loss: 0.0604 - accuracy: 0.9781 - val_loss: 0.1219 - val_accuracy: 0.9667\n",
      "Epoch 13/20\n",
      "198/198 [==============================] - 11s 54ms/step - loss: 0.0422 - accuracy: 0.9848 - val_loss: 0.2808 - val_accuracy: 0.9667\n",
      "Epoch 14/20\n",
      "198/198 [==============================] - 9s 46ms/step - loss: 0.0771 - accuracy: 0.9663 - val_loss: 0.3496 - val_accuracy: 0.9000\n",
      "Epoch 15/20\n",
      "198/198 [==============================] - 9s 46ms/step - loss: 0.0741 - accuracy: 0.9747 - val_loss: 0.1641 - val_accuracy: 0.9667\n",
      "Epoch 16/20\n",
      "198/198 [==============================] - 9s 47ms/step - loss: 0.0472 - accuracy: 0.9815 - val_loss: 0.1945 - val_accuracy: 0.9667\n",
      "Epoch 17/20\n",
      "198/198 [==============================] - 11s 54ms/step - loss: 0.0177 - accuracy: 0.9933 - val_loss: 0.2294 - val_accuracy: 0.9667\n",
      "Epoch 18/20\n",
      "198/198 [==============================] - 13s 68ms/step - loss: 0.0139 - accuracy: 0.9983 - val_loss: 0.2004 - val_accuracy: 0.9667\n",
      "Epoch 19/20\n",
      "198/198 [==============================] - 13s 65ms/step - loss: 0.0419 - accuracy: 0.9848 - val_loss: 0.1862 - val_accuracy: 0.9667\n",
      "Epoch 20/20\n",
      "198/198 [==============================] - 12s 63ms/step - loss: 0.0578 - accuracy: 0.9832 - val_loss: 0.2784 - val_accuracy: 0.9667\n"
     ]
    },
    {
     "data": {
      "text/plain": [
       "<keras.callbacks.History at 0x1a6cd093af0>"
      ]
     },
     "execution_count": 19,
     "metadata": {},
     "output_type": "execute_result"
    }
   ],
   "source": [
    "classifier.fit_generator(\n",
    " generator = x_train, steps_per_epoch = len(x_train),\n",
    " epochs = 20, validation_data = x_test, validation_steps =len(x_test))\n"
   ]
  },
  {
   "cell_type": "code",
   "execution_count": 20,
   "id": "0ed71599",
   "metadata": {},
   "outputs": [],
   "source": [
    "classifier.save('gesture.h5')"
   ]
  },
  {
   "cell_type": "code",
   "execution_count": 21,
   "id": "aff43447",
   "metadata": {},
   "outputs": [],
   "source": [
    "model_json = classifier.to_json()\n",
    "with open(\"model-bw.json\", \"w\") as json_file:\n",
    " json_file.write(model_json)"
   ]
  },
  {
   "cell_type": "code",
   "execution_count": null,
   "id": "735968d6",
   "metadata": {},
   "outputs": [],
   "source": []
  }
 ],
 "metadata": {
  "kernelspec": {
   "display_name": "Python 3 (ipykernel)",
   "language": "python",
   "name": "python3"
  },
  "language_info": {
   "codemirror_mode": {
    "name": "ipython",
    "version": 3
   },
   "file_extension": ".py",
   "mimetype": "text/x-python",
   "name": "python",
   "nbconvert_exporter": "python",
   "pygments_lexer": "ipython3",
   "version": "3.9.7"
  }
 },
 "nbformat": 4,
 "nbformat_minor": 5
}
