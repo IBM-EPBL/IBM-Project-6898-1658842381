{
 "cells": [
  {
   "cell_type": "markdown",
   "id": "42618a72",
   "metadata": {},
   "source": [
    "# Team ID : PNT2022TMID34850\n",
    "# Project Name : A Gesture-based Tool for Sterile Browsing ofRadiology Images"
   ]
  },
  {
   "cell_type": "markdown",
   "id": "91ce15bd",
   "metadata": {},
   "source": [
    "# Model Building"
   ]
  },
  {
   "cell_type": "markdown",
   "id": "db279cc4",
   "metadata": {},
   "source": [
    "# ● Importing the Model Building libraries"
   ]
  },
  {
   "cell_type": "code",
   "execution_count": 1,
   "id": "dd64368b",
   "metadata": {},
   "outputs": [],
   "source": [
    "import numpy as np\n",
    "import tensorflow\n",
    "from tensorflow.keras.models import Sequential\n",
    "from tensorflow.keras import layers\n",
    "from tensorflow.keras.layers import Dense, Flatten\n",
    "from tensorflow.keras.layers import Conv2D, MaxPooling2D\n",
    "from keras.preprocessing.image import ImageDataGenerator"
   ]
  },
  {
   "cell_type": "markdown",
   "id": "5fb75758",
   "metadata": {},
   "source": [
    "# ● Initializing the Model"
   ]
  },
  {
   "cell_type": "code",
   "execution_count": 2,
   "id": "2ee4caff",
   "metadata": {},
   "outputs": [],
   "source": [
    "classifier = Sequential()"
   ]
  },
  {
   "cell_type": "markdown",
   "id": "dd714814",
   "metadata": {},
   "source": [
    "# ● Adding CNN layers"
   ]
  },
  {
   "cell_type": "code",
   "execution_count": 3,
   "id": "5870dc43",
   "metadata": {},
   "outputs": [],
   "source": [
    "classifier.add(Conv2D(32, (3, 3), input_shape=(64, 64, 1) ,activation='relu'))\n",
    "classifier.add(MaxPooling2D(pool_size=(2, 2)))\n",
    "classifier.add(Conv2D(32, (3, 3), activation='relu'))\n",
    "classifier.add(MaxPooling2D(pool_size=(2, 2)))\n",
    "classifier.add(Flatten())"
   ]
  },
  {
   "cell_type": "markdown",
   "id": "37baa38b",
   "metadata": {},
   "source": [
    "# ● Adding Dense layers"
   ]
  },
  {
   "cell_type": "code",
   "execution_count": 4,
   "id": "cb116d3d",
   "metadata": {},
   "outputs": [],
   "source": [
    "classifier.add(Dense(units=128, activation='relu'))\n",
    "classifier.add(Dense(units=6, activation='softmax'))"
   ]
  },
  {
   "cell_type": "code",
   "execution_count": 5,
   "id": "ef7a6be3",
   "metadata": {},
   "outputs": [
    {
     "name": "stdout",
     "output_type": "stream",
     "text": [
      "Model: \"sequential\"\n",
      "_________________________________________________________________\n",
      " Layer (type)                Output Shape              Param #   \n",
      "=================================================================\n",
      " conv2d (Conv2D)             (None, 62, 62, 32)        320       \n",
      "                                                                 \n",
      " max_pooling2d (MaxPooling2D  (None, 31, 31, 32)       0         \n",
      " )                                                               \n",
      "                                                                 \n",
      " conv2d_1 (Conv2D)           (None, 29, 29, 32)        9248      \n",
      "                                                                 \n",
      " max_pooling2d_1 (MaxPooling  (None, 14, 14, 32)       0         \n",
      " 2D)                                                             \n",
      "                                                                 \n",
      " flatten (Flatten)           (None, 6272)              0         \n",
      "                                                                 \n",
      " dense (Dense)               (None, 128)               802944    \n",
      "                                                                 \n",
      " dense_1 (Dense)             (None, 6)                 774       \n",
      "                                                                 \n",
      "=================================================================\n",
      "Total params: 813,286\n",
      "Trainable params: 813,286\n",
      "Non-trainable params: 0\n",
      "_________________________________________________________________\n"
     ]
    }
   ],
   "source": [
    "classifier.summary()"
   ]
  },
  {
   "cell_type": "markdown",
   "id": "3d09c5af",
   "metadata": {},
   "source": [
    "# ● Configure the Learning Process"
   ]
  },
  {
   "cell_type": "code",
   "execution_count": 6,
   "id": "5dc1b27b",
   "metadata": {},
   "outputs": [],
   "source": [
    "classifier.compile(optimizer='adam', loss='categorical_crossentropy', metrics=['accuracy'])"
   ]
  },
  {
   "cell_type": "code",
   "execution_count": 7,
   "id": "0359c009",
   "metadata": {},
   "outputs": [],
   "source": [
    "from keras.preprocessing.image import ImageDataGenerator"
   ]
  },
  {
   "cell_type": "code",
   "execution_count": 8,
   "id": "e32bd462",
   "metadata": {},
   "outputs": [],
   "source": [
    "train_datagen = ImageDataGenerator(rescale=1./255,shear_range=0.2,zoom_range=0.2,horizontal_flip=True)\n",
    "test_datagen = ImageDataGenerator(rescale=1./255)"
   ]
  },
  {
   "cell_type": "code",
   "execution_count": 9,
   "id": "f6d53161",
   "metadata": {},
   "outputs": [
    {
     "name": "stdout",
     "output_type": "stream",
     "text": [
      "Found 594 images belonging to 6 classes.\n",
      "Found 30 images belonging to 6 classes.\n"
     ]
    }
   ],
   "source": [
    "x_train = train_datagen.flow_from_directory(r'D:\\A Gesture-based Tool for Sterile Browsing of Radiology Images\\Dataset\\train', target_size=(64, 64), batch_size=5, color_mode='grayscale', class_mode='categorical')\n",
    "x_test = test_datagen.flow_from_directory(r'D:\\A Gesture-based Tool for Sterile Browsing of Radiology Images\\Dataset\\test', target_size=(64, 64), batch_size=5, color_mode='grayscale', class_mode='categorical')"
   ]
  },
  {
   "cell_type": "code",
   "execution_count": 11,
   "id": "3c5a5059",
   "metadata": {},
   "outputs": [
    {
     "name": "stderr",
     "output_type": "stream",
     "text": [
      "C:\\Users\\ELCOT\\AppData\\Local\\Temp/ipykernel_6948/2617134232.py:1: UserWarning: `Model.fit_generator` is deprecated and will be removed in a future version. Please use `Model.fit`, which supports generators.\n",
      "  classifier.fit_generator(\n"
     ]
    },
    {
     "name": "stdout",
     "output_type": "stream",
     "text": [
      "Epoch 1/20\n",
      "119/119 [==============================] - 22s 125ms/step - loss: 1.4677 - accuracy: 0.4461 - val_loss: 0.7134 - val_accuracy: 0.7333\n",
      "Epoch 2/20\n",
      "119/119 [==============================] - 13s 108ms/step - loss: 0.7433 - accuracy: 0.7189 - val_loss: 0.3795 - val_accuracy: 0.9000\n",
      "Epoch 3/20\n",
      "119/119 [==============================] - 13s 113ms/step - loss: 0.4903 - accuracy: 0.8030 - val_loss: 0.4342 - val_accuracy: 0.8333\n",
      "Epoch 4/20\n",
      "119/119 [==============================] - 15s 126ms/step - loss: 0.4111 - accuracy: 0.8283 - val_loss: 0.4615 - val_accuracy: 0.9000\n",
      "Epoch 5/20\n",
      "119/119 [==============================] - 12s 104ms/step - loss: 0.2622 - accuracy: 0.9024 - val_loss: 0.4503 - val_accuracy: 0.8667\n",
      "Epoch 6/20\n",
      "119/119 [==============================] - 16s 136ms/step - loss: 0.2003 - accuracy: 0.9461 - val_loss: 0.2446 - val_accuracy: 0.9667\n",
      "Epoch 7/20\n",
      "119/119 [==============================] - 12s 99ms/step - loss: 0.1726 - accuracy: 0.9377 - val_loss: 0.2102 - val_accuracy: 0.9333\n",
      "Epoch 8/20\n",
      "119/119 [==============================] - 11s 89ms/step - loss: 0.1270 - accuracy: 0.9529 - val_loss: 0.2200 - val_accuracy: 0.9667\n",
      "Epoch 9/20\n",
      "119/119 [==============================] - 13s 110ms/step - loss: 0.1129 - accuracy: 0.9596 - val_loss: 0.1556 - val_accuracy: 0.9333\n",
      "Epoch 10/20\n",
      "119/119 [==============================] - 11s 89ms/step - loss: 0.1293 - accuracy: 0.9529 - val_loss: 0.1909 - val_accuracy: 0.9667\n",
      "Epoch 11/20\n",
      "119/119 [==============================] - 11s 91ms/step - loss: 0.0765 - accuracy: 0.9764 - val_loss: 0.0976 - val_accuracy: 0.9333\n",
      "Epoch 12/20\n",
      "119/119 [==============================] - 12s 98ms/step - loss: 0.0947 - accuracy: 0.9680 - val_loss: 0.0880 - val_accuracy: 0.9667\n",
      "Epoch 13/20\n",
      "119/119 [==============================] - 12s 99ms/step - loss: 0.0788 - accuracy: 0.9731 - val_loss: 0.2163 - val_accuracy: 0.9333\n",
      "Epoch 14/20\n",
      "119/119 [==============================] - 12s 101ms/step - loss: 0.0279 - accuracy: 0.9933 - val_loss: 0.1480 - val_accuracy: 0.9667\n",
      "Epoch 15/20\n",
      "119/119 [==============================] - 11s 91ms/step - loss: 0.0602 - accuracy: 0.9815 - val_loss: 0.6541 - val_accuracy: 0.9000\n",
      "Epoch 16/20\n",
      "119/119 [==============================] - 10s 84ms/step - loss: 0.1117 - accuracy: 0.9596 - val_loss: 0.2068 - val_accuracy: 0.9333\n",
      "Epoch 17/20\n",
      "119/119 [==============================] - 10s 87ms/step - loss: 0.0733 - accuracy: 0.9832 - val_loss: 0.2484 - val_accuracy: 0.9667\n",
      "Epoch 18/20\n",
      "119/119 [==============================] - 12s 98ms/step - loss: 0.0443 - accuracy: 0.9916 - val_loss: 0.1462 - val_accuracy: 0.9333\n",
      "Epoch 19/20\n",
      "119/119 [==============================] - 11s 92ms/step - loss: 0.0343 - accuracy: 0.9882 - val_loss: 0.2338 - val_accuracy: 0.9667\n",
      "Epoch 20/20\n",
      "119/119 [==============================] - 11s 95ms/step - loss: 0.0299 - accuracy: 0.9899 - val_loss: 0.1972 - val_accuracy: 0.9667\n"
     ]
    },
    {
     "data": {
      "text/plain": [
       "<keras.callbacks.History at 0x22f75b3bdf0>"
      ]
     },
     "execution_count": 11,
     "metadata": {},
     "output_type": "execute_result"
    }
   ],
   "source": [
    "classifier.fit_generator(\n",
    "    generator=x_train, steps_per_epoch=len(x_train),\n",
    "    epochs=20, validation_data=x_test, validation_steps=len(x_test)\n",
    ")"
   ]
  },
  {
   "cell_type": "markdown",
   "id": "ebad0344",
   "metadata": {},
   "source": [
    "# ● Train the Model"
   ]
  },
  {
   "cell_type": "code",
   "execution_count": 12,
   "id": "b357df46",
   "metadata": {},
   "outputs": [],
   "source": [
    "import numpy as np\n",
    "import tensorflow as tf\n",
    "from tensorflow.keras import layers\n",
    "from tensorflow.keras.models import Sequential\n",
    "import matplotlib.pyplot as plt\n",
    "import os"
   ]
  },
  {
   "cell_type": "code",
   "execution_count": 13,
   "id": "1570b2ad",
   "metadata": {},
   "outputs": [],
   "source": [
    "batch_size = 16"
   ]
  },
  {
   "cell_type": "code",
   "execution_count": 14,
   "id": "63eb468f",
   "metadata": {},
   "outputs": [
    {
     "data": {
      "text/plain": [
       "['test', 'train']"
      ]
     },
     "execution_count": 14,
     "metadata": {},
     "output_type": "execute_result"
    }
   ],
   "source": [
    "os.listdir(\"D:\\A Gesture-based Tool for Sterile Browsing of Radiology Images\\Dataset\")"
   ]
  },
  {
   "cell_type": "code",
   "execution_count": 15,
   "id": "1fa70002",
   "metadata": {},
   "outputs": [
    {
     "name": "stdout",
     "output_type": "stream",
     "text": [
      "Found 624 files belonging to 2 classes.\n",
      "Using 468 files for training.\n"
     ]
    }
   ],
   "source": [
    "train_data = tf.keras.utils.image_dataset_from_directory(\n",
    "  \"D:\\A Gesture-based Tool for Sterile Browsing of Radiology Images\\Dataset\",\n",
    "  validation_split=0.25,\n",
    "  subset=\"training\",\n",
    "  seed=120,\n",
    "  image_size=(180, 180),\n",
    "  batch_size=batch_size)"
   ]
  },
  {
   "cell_type": "code",
   "execution_count": 16,
   "id": "50658c5e",
   "metadata": {},
   "outputs": [
    {
     "name": "stdout",
     "output_type": "stream",
     "text": [
      "Found 624 files belonging to 2 classes.\n",
      "Using 156 files for validation.\n"
     ]
    }
   ],
   "source": [
    "val_data_set = tf.keras.utils.image_dataset_from_directory(\n",
    " \"D:\\A Gesture-based Tool for Sterile Browsing of Radiology Images\\Dataset\",\n",
    "  validation_split=0.25,\n",
    "  subset=\"validation\",\n",
    "  seed=120,\n",
    "  image_size=(180, 180),\n",
    "  batch_size=batch_size)"
   ]
  },
  {
   "cell_type": "code",
   "execution_count": 17,
   "id": "029bc14a",
   "metadata": {},
   "outputs": [],
   "source": [
    "class_names = train_data.class_names"
   ]
  },
  {
   "cell_type": "code",
   "execution_count": 18,
   "id": "2973ab80",
   "metadata": {},
   "outputs": [
    {
     "data": {
      "image/png": "[encoded data removed]",
      "text/plain": [
       "<Figure size 1080x1080 with 3 Axes>"
      ]
     },
     "metadata": {
      "needs_background": "light"
     },
     "output_type": "display_data"
    }
   ],
   "source": [
    "plt.figure(figsize=(15, 15))\n",
    "for images, labels in train_data.take(1):\n",
    "  for i in range(3):\n",
    "    ax = plt.subplot(3, 3, i + 1)\n",
    "    plt.imshow(images[i].numpy().astype(\"uint8\"))\n",
    "    plt.title(class_names[labels[i]])"
   ]
  },
  {
   "cell_type": "markdown",
   "id": "d01da1b5",
   "metadata": {},
   "source": [
    "# ● Save the Model"
   ]
  },
  {
   "cell_type": "code",
   "execution_count": 19,
   "id": "d75445f9",
   "metadata": {},
   "outputs": [],
   "source": [
    "classifier.save('gesture.h5')"
   ]
  },
  {
   "cell_type": "code",
   "execution_count": 20,
   "id": "88155ed2",
   "metadata": {},
   "outputs": [],
   "source": [
    "model_json = classifier.to_json()\n",
    "with open(\"model-bw.json\", \"w\") as f:\n",
    "    f.write(model_json)"
   ]
  },
  {
   "cell_type": "markdown",
   "id": "e54441bb",
   "metadata": {},
   "source": [
    "# ● Test the Model"
   ]
  },
  {
   "cell_type": "code",
   "execution_count": 21,
   "id": "d882550f",
   "metadata": {},
   "outputs": [],
   "source": [
    "from tensorflow.keras.models import load_model\n",
    "from keras.preprocessing import image"
   ]
  },
  {
   "cell_type": "code",
   "execution_count": 22,
   "id": "3edc0864",
   "metadata": {},
   "outputs": [],
   "source": [
    "model = load_model(\"gesture.h5\")"
   ]
  },
  {
   "cell_type": "code",
   "execution_count": 23,
   "id": "42d76a2a",
   "metadata": {},
   "outputs": [
    {
     "name": "stderr",
     "output_type": "stream",
     "text": [
      "C:\\Users\\ELCOT\\anaconda3\\lib\\site-packages\\keras_preprocessing\\image\\utils.py:107: UserWarning: grayscale is deprecated. Please use color_mode = \"grayscale\"\n",
      "  warnings.warn('grayscale is deprecated. Please use '\n"
     ]
    },
    {
     "data": {
      "text/plain": [
       "array([[1., 0., 0., 0., 0., 0.]], dtype=float32)"
      ]
     },
     "execution_count": 23,
     "metadata": {},
     "output_type": "execute_result"
    }
   ],
   "source": [
    "from tensorflow.keras.utils import load_img, img_to_array\n",
    "\n",
    "img = load_img(\"D:\\A Gesture-based Tool for Sterile Browsing of Radiology Images/Dataset/test/0/0.jpg\", grayscale=True, target_size=(64, 64))\n",
    "x = img_to_array(img)\n",
    "x = np.expand_dims(x,axis=0)\n",
    "pred = model.predict(x)\n",
    "\n",
    "pred"
   ]
  },
  {
   "cell_type": "code",
   "execution_count": 24,
   "id": "dbb9ed87",
   "metadata": {},
   "outputs": [
    {
     "data": {
      "text/plain": [
       "array([1., 0., 0., 0., 0., 0.], dtype=float32)"
      ]
     },
     "execution_count": 24,
     "metadata": {},
     "output_type": "execute_result"
    }
   ],
   "source": [
    "pred[0]"
   ]
  },
  {
   "cell_type": "code",
   "execution_count": 1,
   "id": "7cc12094",
   "metadata": {},
   "outputs": [
    {
     "ename": "NameError",
     "evalue": "name 'image' is not defined",
     "output_type": "error",
     "traceback": [
      "\u001b[1;31m---------------------------------------------------------------------------\u001b[0m",
      "\u001b[1;31mNameError\u001b[0m                                 Traceback (most recent call last)",
      "\u001b[1;32m~\\AppData\\Local\\Temp/ipykernel_2312/2345129807.py\u001b[0m in \u001b[0;36m<module>\u001b[1;34m\u001b[0m\n\u001b[0;32m      3\u001b[0m \u001b[1;32mfor\u001b[0m \u001b[0mi\u001b[0m \u001b[1;32min\u001b[0m \u001b[0mrange\u001b[0m\u001b[1;33m(\u001b[0m\u001b[1;36m0\u001b[0m\u001b[1;33m,\u001b[0m\u001b[1;36m6\u001b[0m\u001b[1;33m)\u001b[0m\u001b[1;33m:\u001b[0m\u001b[1;33m\u001b[0m\u001b[1;33m\u001b[0m\u001b[0m\n\u001b[0;32m      4\u001b[0m   \u001b[1;32mfor\u001b[0m \u001b[0mj\u001b[0m \u001b[1;32min\u001b[0m \u001b[0mrange\u001b[0m\u001b[1;33m(\u001b[0m\u001b[1;36m0\u001b[0m\u001b[1;33m,\u001b[0m\u001b[1;36m5\u001b[0m\u001b[1;33m)\u001b[0m\u001b[1;33m:\u001b[0m\u001b[1;33m\u001b[0m\u001b[1;33m\u001b[0m\u001b[0m\n\u001b[1;32m----> 5\u001b[1;33m     \u001b[0mimg\u001b[0m \u001b[1;33m=\u001b[0m \u001b[0mimage\u001b[0m\u001b[1;33m.\u001b[0m\u001b[0mload_img\u001b[0m\u001b[1;33m(\u001b[0m\u001b[1;34mr\"D:\\\\A Gesture-based Tool for Sterile Browsing of Radiology Images\\\\Dataset\\test\\\\\"\u001b[0m\u001b[1;33m+\u001b[0m\u001b[0mstr\u001b[0m\u001b[1;33m(\u001b[0m\u001b[0mi\u001b[0m\u001b[1;33m)\u001b[0m\u001b[1;33m+\u001b[0m\u001b[1;34m\"\\\\\"\u001b[0m\u001b[1;33m+\u001b[0m\u001b[0mstr\u001b[0m\u001b[1;33m(\u001b[0m\u001b[0mj\u001b[0m\u001b[1;33m)\u001b[0m\u001b[1;33m+\u001b[0m\u001b[1;34m\".jpg\"\u001b[0m\u001b[1;33m,\u001b[0m \u001b[0mgrayscale\u001b[0m\u001b[1;33m=\u001b[0m\u001b[1;32mTrue\u001b[0m\u001b[1;33m,\u001b[0m \u001b[0mtarget_size\u001b[0m\u001b[1;33m=\u001b[0m\u001b[1;33m(\u001b[0m\u001b[1;36m64\u001b[0m\u001b[1;33m,\u001b[0m\u001b[1;36m64\u001b[0m\u001b[1;33m)\u001b[0m\u001b[1;33m)\u001b[0m\u001b[1;33m\u001b[0m\u001b[1;33m\u001b[0m\u001b[0m\n\u001b[0m\u001b[0;32m      6\u001b[0m     \u001b[0mx\u001b[0m \u001b[1;33m=\u001b[0m \u001b[0mimage\u001b[0m\u001b[1;33m.\u001b[0m\u001b[0mimg_to_array\u001b[0m\u001b[1;33m(\u001b[0m\u001b[0mimg\u001b[0m\u001b[1;33m)\u001b[0m\u001b[1;33m\u001b[0m\u001b[1;33m\u001b[0m\u001b[0m\n\u001b[0;32m      7\u001b[0m     \u001b[0mx\u001b[0m \u001b[1;33m=\u001b[0m \u001b[0mnp\u001b[0m\u001b[1;33m.\u001b[0m\u001b[0mexpand_dims\u001b[0m\u001b[1;33m(\u001b[0m\u001b[0mx\u001b[0m\u001b[1;33m,\u001b[0m\u001b[0maxis\u001b[0m\u001b[1;33m=\u001b[0m\u001b[1;36m0\u001b[0m\u001b[1;33m)\u001b[0m\u001b[1;33m\u001b[0m\u001b[1;33m\u001b[0m\u001b[0m\n",
      "\u001b[1;31mNameError\u001b[0m: name 'image' is not defined"
     ]
    }
   ],
   "source": [
    "import numpy as np\n",
    "p=[]\n",
    "for i in range(0,6):\n",
    "  for j in range(0,5):\n",
    "    img = image.load_img(r\"D:\\\\A Gesture-based Tool for Sterile Browsing of Radiology Images\\\\Dataset\\test\\\\\"+str(i)+\"\\\\\"+str(j)+\".jpg\", grayscale=True, target_size=(64,64))\n",
    "    x = image.img_to_array(img)\n",
    "    x = np.expand_dims(x,axis=0)\n",
    "    pred = np.argmax(model.predict(x),axis=-1)\n",
    "    p.append(pred)\n",
    "print(p)"
   ]
  },
  {
   "cell_type": "code",
   "execution_count": null,
   "id": "b297e961",
   "metadata": {},
   "outputs": [],
   "source": []
  },
  {
   "cell_type": "code",
   "execution_count": null,
   "id": "5c31ca19",
   "metadata": {},
   "outputs": [],
   "source": []
  },
  {
   "cell_type": "code",
   "execution_count": null,
   "id": "d6ac7761",
   "metadata": {},
   "outputs": [],
   "source": []
  },
  {
   "cell_type": "code",
   "execution_count": null,
   "id": "497853f3",
   "metadata": {},
   "outputs": [],
   "source": []
  }
 ],
 "metadata": {
  "kernelspec": {
   "display_name": "Python 3 (ipykernel)",
   "language": "python",
   "name": "python3"
  },
  "language_info": {
   "codemirror_mode": {
    "name": "ipython",
    "version": 3
   },
   "file_extension": ".py",
   "mimetype": "text/x-python",
   "name": "python",
   "nbconvert_exporter": "python",
   "pygments_lexer": "ipython3",
   "version": "3.9.7"
  }
 },
 "nbformat": 4,
 "nbformat_minor": 5
}
